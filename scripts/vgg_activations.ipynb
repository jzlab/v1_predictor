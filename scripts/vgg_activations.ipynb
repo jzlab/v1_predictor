{
 "cells": [
  {
   "cell_type": "code",
   "execution_count": 1,
   "metadata": {},
   "outputs": [
    {
     "name": "stderr",
     "output_type": "stream",
     "text": [
      "Using TensorFlow backend.\n"
     ]
    }
   ],
   "source": [
    "from keras.applications import VGG16\n",
    "import keras.backend as K\n",
    "import numpy as np\n",
    "import scipy.io as sio\n",
    "import matplotlib.pyplot as plt\n",
    "%matplotlib inline\n",
    "\n",
    "from keras.models import Model"
   ]
  },
  {
   "cell_type": "code",
   "execution_count": 2,
   "metadata": {},
   "outputs": [],
   "source": [
    "vgg = VGG16()"
   ]
  },
  {
   "cell_type": "code",
   "execution_count": 3,
   "metadata": {},
   "outputs": [],
   "source": [
    "# Based on https://stackoverflow.com/questions/41711190/keras-how-to-get-the-output-of-each-layer\n",
    "def layer_act_generator(model,start_at=1):\n",
    "    inp = model.input                                           # input placeholder\n",
    "    outputs = [layer.output for layer in model.layers[start_at:-4]]          # all layer outputs\n",
    "    functor = K.function([inp, K.learning_phase()], outputs )   # evaluation function\n",
    "    mod = Model(inp,outputs)\n",
    "    \n",
    "    return mod\n",
    "\n",
    "get_act = layer_act_generator(vgg)"
   ]
  },
  {
   "cell_type": "code",
   "execution_count": 4,
   "metadata": {},
   "outputs": [
    {
     "data": {
      "text/plain": [
       "[<tf.Tensor 'block1_conv1/Relu:0' shape=(?, 224, 224, 64) dtype=float32>,\n",
       " <tf.Tensor 'block1_conv2/Relu:0' shape=(?, 224, 224, 64) dtype=float32>,\n",
       " <tf.Tensor 'block1_pool/MaxPool:0' shape=(?, 112, 112, 64) dtype=float32>,\n",
       " <tf.Tensor 'block2_conv1/Relu:0' shape=(?, 112, 112, 128) dtype=float32>,\n",
       " <tf.Tensor 'block2_conv2/Relu:0' shape=(?, 112, 112, 128) dtype=float32>,\n",
       " <tf.Tensor 'block2_pool/MaxPool:0' shape=(?, 56, 56, 128) dtype=float32>,\n",
       " <tf.Tensor 'block3_conv1/Relu:0' shape=(?, 56, 56, 256) dtype=float32>,\n",
       " <tf.Tensor 'block3_conv2/Relu:0' shape=(?, 56, 56, 256) dtype=float32>,\n",
       " <tf.Tensor 'block3_conv3/Relu:0' shape=(?, 56, 56, 256) dtype=float32>,\n",
       " <tf.Tensor 'block3_pool/MaxPool:0' shape=(?, 28, 28, 256) dtype=float32>,\n",
       " <tf.Tensor 'block4_conv1/Relu:0' shape=(?, 28, 28, 512) dtype=float32>,\n",
       " <tf.Tensor 'block4_conv2/Relu:0' shape=(?, 28, 28, 512) dtype=float32>,\n",
       " <tf.Tensor 'block4_conv3/Relu:0' shape=(?, 28, 28, 512) dtype=float32>,\n",
       " <tf.Tensor 'block4_pool/MaxPool:0' shape=(?, 14, 14, 512) dtype=float32>,\n",
       " <tf.Tensor 'block5_conv1/Relu:0' shape=(?, 14, 14, 512) dtype=float32>,\n",
       " <tf.Tensor 'block5_conv2/Relu:0' shape=(?, 14, 14, 512) dtype=float32>,\n",
       " <tf.Tensor 'block5_conv3/Relu:0' shape=(?, 14, 14, 512) dtype=float32>,\n",
       " <tf.Tensor 'block5_pool/MaxPool:0' shape=(?, 7, 7, 512) dtype=float32>]"
      ]
     },
     "execution_count": 4,
     "metadata": {},
     "output_type": "execute_result"
    }
   ],
   "source": [
    "get_act.outputs"
   ]
  },
  {
   "cell_type": "code",
   "execution_count": 5,
   "metadata": {},
   "outputs": [],
   "source": [
    "# Based on https://stackoverflow.com/questions/39382412/crop-center-portion-of-a-numpy-image\n",
    "def crop_center(img,cropx,cropy):\n",
    "    y,x = img.shape\n",
    "    startx = x//2-(cropx//2)\n",
    "    starty = y//2-(cropy//2)    \n",
    "    return img[starty:starty+cropy,startx:startx+cropx]"
   ]
  },
  {
   "cell_type": "code",
   "execution_count": 6,
   "metadata": {},
   "outputs": [],
   "source": [
    "stim_seq = sio.loadmat('../stimulus_sequence.mat')['stimulus_sequence']"
   ]
  },
  {
   "cell_type": "code",
   "execution_count": 7,
   "metadata": {},
   "outputs": [],
   "source": [
    "dat = sio.loadmat('../02.mat')\n",
    "images = dat['images']"
   ]
  },
  {
   "cell_type": "code",
   "execution_count": 8,
   "metadata": {},
   "outputs": [],
   "source": [
    "small_idxs = np.arange(0,540,2)\n",
    "lg_idxs = np.arange(0,540,2)+1\n",
    "sm_ims = [im.tolist()[0] for im in images[:,small_idxs].reshape(270,1)]\n",
    "lg_ims = [im.tolist()[0] for im in images[:,lg_idxs].reshape(270,1)]\n",
    "vgg_ims = [crop_center(im,224,224) for im in sm_ims]"
   ]
  },
  {
   "cell_type": "code",
   "execution_count": 9,
   "metadata": {},
   "outputs": [
    {
     "data": {
      "text/plain": [
       "<matplotlib.image.AxesImage at 0x7f8f352668d0>"
      ]
     },
     "execution_count": 9,
     "metadata": {},
     "output_type": "execute_result"
    },
    {
     "data": {
      "image/png": "[encoded data removed]",
      "text/plain": [
       "<Figure size 432x288 with 3 Axes>"
      ]
     },
     "metadata": {
      "needs_background": "light"
     },
     "output_type": "display_data"
    }
   ],
   "source": [
    "fig,axs = plt.subplots(1,3)\n",
    "axs[0].imshow(lg_ims[0])\n",
    "axs[1].imshow(sm_ims[0])\n",
    "axs[2].imshow(vgg_ims[0])"
   ]
  },
  {
   "cell_type": "code",
   "execution_count": 10,
   "metadata": {},
   "outputs": [
    {
     "data": {
      "text/plain": [
       "(270, 224, 224, 3)"
      ]
     },
     "execution_count": 10,
     "metadata": {},
     "output_type": "execute_result"
    }
   ],
   "source": [
    "vgg_ims = np.array([np.stack([im,im,im],axis=2) for im in vgg_ims])\n",
    "vgg_ims.shape"
   ]
  },
  {
   "cell_type": "code",
   "execution_count": 11,
   "metadata": {},
   "outputs": [],
   "source": [
    "outs = get_act.predict(vgg_ims,batch_size=32)"
   ]
  },
  {
   "cell_type": "code",
   "execution_count": 46,
   "metadata": {},
   "outputs": [],
   "source": [
    "outs_flat = [o.reshape(270,np.prod(o.shape[1:])) for o in outs]"
   ]
  },
  {
   "cell_type": "code",
   "execution_count": 47,
   "metadata": {},
   "outputs": [
    {
     "data": {
      "text/plain": [
       "[(270, 3211264),\n",
       " (270, 3211264),\n",
       " (270, 802816),\n",
       " (270, 1605632),\n",
       " (270, 1605632),\n",
       " (270, 401408),\n",
       " (270, 802816),\n",
       " (270, 802816),\n",
       " (270, 802816),\n",
       " (270, 200704),\n",
       " (270, 401408),\n",
       " (270, 401408),\n",
       " (270, 401408),\n",
       " (270, 100352),\n",
       " (270, 100352),\n",
       " (270, 100352),\n",
       " (270, 100352),\n",
       " (270, 25088)]"
      ]
     },
     "execution_count": 47,
     "metadata": {},
     "output_type": "execute_result"
    }
   ],
   "source": [
    "[o.shape for o in outs_flat]"
   ]
  },
  {
   "cell_type": "code",
   "execution_count": 48,
   "metadata": {},
   "outputs": [
    {
     "name": "stdout",
     "output_type": "stream",
     "text": [
      "saving... /home/elijahc/Dropbox/Kohn_Monkey_Data/vgg_activations/vgg_activations_flat/layer_1\n",
      "(270, 3211264)\n",
      "saving... /home/elijahc/Dropbox/Kohn_Monkey_Data/vgg_activations/vgg_activations_flat/layer_2\n",
      "(270, 3211264)\n",
      "saving... /home/elijahc/Dropbox/Kohn_Monkey_Data/vgg_activations/vgg_activations_flat/layer_3\n",
      "(270, 802816)\n",
      "saving... /home/elijahc/Dropbox/Kohn_Monkey_Data/vgg_activations/vgg_activations_flat/layer_4\n",
      "(270, 1605632)\n",
      "saving... /home/elijahc/Dropbox/Kohn_Monkey_Data/vgg_activations/vgg_activations_flat/layer_5\n",
      "(270, 1605632)\n",
      "saving... /home/elijahc/Dropbox/Kohn_Monkey_Data/vgg_activations/vgg_activations_flat/layer_6\n",
      "(270, 401408)\n",
      "saving... /home/elijahc/Dropbox/Kohn_Monkey_Data/vgg_activations/vgg_activations_flat/layer_7\n",
      "(270, 802816)\n",
      "saving... /home/elijahc/Dropbox/Kohn_Monkey_Data/vgg_activations/vgg_activations_flat/layer_8\n",
      "(270, 802816)\n",
      "saving... /home/elijahc/Dropbox/Kohn_Monkey_Data/vgg_activations/vgg_activations_flat/layer_9\n",
      "(270, 802816)\n",
      "saving... /home/elijahc/Dropbox/Kohn_Monkey_Data/vgg_activations/vgg_activations_flat/layer_10\n",
      "(270, 200704)\n",
      "saving... /home/elijahc/Dropbox/Kohn_Monkey_Data/vgg_activations/vgg_activations_flat/layer_11\n",
      "(270, 401408)\n",
      "saving... /home/elijahc/Dropbox/Kohn_Monkey_Data/vgg_activations/vgg_activations_flat/layer_12\n",
      "(270, 401408)\n",
      "saving... /home/elijahc/Dropbox/Kohn_Monkey_Data/vgg_activations/vgg_activations_flat/layer_13\n",
      "(270, 401408)\n",
      "saving... /home/elijahc/Dropbox/Kohn_Monkey_Data/vgg_activations/vgg_activations_flat/layer_14\n",
      "(270, 100352)\n",
      "saving... /home/elijahc/Dropbox/Kohn_Monkey_Data/vgg_activations/vgg_activations_flat/layer_15\n",
      "(270, 100352)\n",
      "saving... /home/elijahc/Dropbox/Kohn_Monkey_Data/vgg_activations/vgg_activations_flat/layer_16\n",
      "(270, 100352)\n",
      "saving... /home/elijahc/Dropbox/Kohn_Monkey_Data/vgg_activations/vgg_activations_flat/layer_17\n",
      "(270, 100352)\n",
      "saving... /home/elijahc/Dropbox/Kohn_Monkey_Data/vgg_activations/vgg_activations_flat/layer_18\n",
      "(270, 25088)\n"
     ]
    }
   ],
   "source": [
    "for i,arr in zip(np.arange(len(outs))+1,outs_flat):\n",
    "    cwd = os.getcwd()\n",
    "    path = os.path.join(cwd,'vgg_activations_flat','layer_'+str(i))\n",
    "    print('saving...',path)\n",
    "    print(arr.shape)\n",
    "    np.save(path,arr)"
   ]
  },
  {
   "cell_type": "code",
   "execution_count": 21,
   "metadata": {},
   "outputs": [
    {
     "ename": "TypeError",
     "evalue": "file must have a 'write' attribute",
     "output_type": "error",
     "traceback": [
      "\u001b[0;31m---------------------------------------------------------------------------\u001b[0m",
      "\u001b[0;31mTypeError\u001b[0m                                 Traceback (most recent call last)",
      "\u001b[0;32m<ipython-input-21-243a9b86a3f1>\u001b[0m in \u001b[0;36m<module>\u001b[0;34m()\u001b[0m\n\u001b[0;32m----> 1\u001b[0;31m \u001b[0mpickle\u001b[0m\u001b[0;34m.\u001b[0m\u001b[0mdump\u001b[0m\u001b[0;34m(\u001b[0m\u001b[0mouts\u001b[0m\u001b[0;34m,\u001b[0m\u001b[0;34m'./vgg_outs.pk'\u001b[0m\u001b[0;34m)\u001b[0m\u001b[0;34m\u001b[0m\u001b[0m\n\u001b[0m",
      "\u001b[0;31mTypeError\u001b[0m: file must have a 'write' attribute"
     ]
    }
   ],
   "source": [
    "pickle.dump(outs[18],)"
   ]
  },
  {
   "cell_type": "code",
   "execution_count": 34,
   "metadata": {},
   "outputs": [],
   "source": [
    "gabor_act_02 = sio.loadmat('/home/elijahc/dev/sparse_Gabors_for_Will/02_gabor_activations.mat')"
   ]
  },
  {
   "cell_type": "code",
   "execution_count": 42,
   "metadata": {},
   "outputs": [
    {
     "data": {
      "text/plain": [
       "array([[1.7 , 0.85, 0.4 , ..., 0.85, 0.  , 0.1 ],\n",
       "       [1.45, 0.8 , 0.15, ..., 0.8 , 0.25, 0.15],\n",
       "       [1.3 , 0.7 , 0.2 , ..., 0.75, 0.2 , 0.25],\n",
       "       ...,\n",
       "       [0.95, 0.1 , 0.4 , ..., 0.65, 0.1 , 0.2 ],\n",
       "       [1.05, 0.25, 1.7 , ..., 0.55, 0.3 , 0.7 ],\n",
       "       [0.6 , 0.35, 0.7 , ..., 0.75, 0.15, 0.15]])"
      ]
     },
     "execution_count": 42,
     "metadata": {},
     "output_type": "execute_result"
    }
   ],
   "source": [
    "gabor_act_02['activity']"
   ]
  },
  {
   "cell_type": "code",
   "execution_count": null,
   "metadata": {},
   "outputs": [],
   "source": [
    "np.save()"
   ]
  }
 ],
 "metadata": {
  "kernelspec": {
   "display_name": "Py3-GPU (Python3.5.2)",
   "language": "python",
   "name": "py3-gpu"
  },
  "language_info": {
   "codemirror_mode": {
    "name": "ipython",
    "version": 3
   },
   "file_extension": ".py",
   "mimetype": "text/x-python",
   "name": "python",
   "nbconvert_exporter": "python",
   "pygments_lexer": "ipython3",
   "version": "3.5.2"
  }
 },
 "nbformat": 4,
 "nbformat_minor": 2
}
