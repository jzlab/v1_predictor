{
 "cells": [
  {
   "cell_type": "code",
   "execution_count": 1,
   "metadata": {},
   "outputs": [],
   "source": [
    "import os\n",
    "\n",
    "import numpy as np\n",
    "import pandas as pd\n",
    "import matplotlib.pyplot as plt\n",
    "%matplotlib inline\n",
    "import seaborn as sns\n",
    "\n",
    "import scipy.io as sio\n",
    "import scipy.stats as stats\n",
    "from sklearn.linear_model import Ridge"
   ]
  },
  {
   "cell_type": "code",
   "execution_count": 13,
   "metadata": {},
   "outputs": [],
   "source": [
    "def get_partition(total, test_frac=0.2, return_bool_mask=False):\n",
    "    num_total = total\n",
    "    num_samples = int(test_frac*num_total)\n",
    "    sample_frac = np.random.choice(num_total,num_samples,replace=False)\n",
    "    bool_frac = np.bincount(sample_frac,minlength=num_total).astype(np.bool)\n",
    "    if return_bool_mask:\n",
    "        return (~bool_frac,bool_frac)\n",
    "    else:\n",
    "        return (np.arange(num_total)[bool_frac],np.arange(num_total)[~bool_frac])\n",
    "\n",
    "def ridge_regression(x,y,validation_frac=1.0/7,alpha=1.0):\n",
    "    num_samples = x.shape[0]\n",
    "    num_cells = y.shape[1]\n",
    "    \n",
    "    train_idx,test_idx = get_partition(num_samples,validation_frac,True)\n",
    "    \n",
    "    x_train,x_test = x[train_idx], x[test_idx]\n",
    "    y_train,y_test = y[train_idx], y[test_idx]\n",
    "    num_test = y_test.shape[0]\n",
    "    \n",
    "    clf = Ridge(alpha=alpha)\n",
    "    clf.fit(x_train,y_train)\n",
    "    \n",
    "    y_pred = clf.predict(x_test)\n",
    "    \n",
    "    r_eval = [stats.pearsonr(y_pred[:,i],y_test[:,i])[0] for i in np.arange(num_cells)]\n",
    "    \n",
    "    return np.array(r_eval)"
   ]
  },
  {
   "cell_type": "markdown",
   "metadata": {},
   "source": [
    "# Load data"
   ]
  },
  {
   "cell_type": "code",
   "execution_count": 14,
   "metadata": {},
   "outputs": [
    {
     "data": {
      "text/plain": [
       "(270, 1089)"
      ]
     },
     "execution_count": 14,
     "metadata": {},
     "output_type": "execute_result"
    }
   ],
   "source": [
    "gabor = sio.loadmat('/home/elijahc/dev/sparse_Gabors_for_Will/01_gabor_activations.mat')['Y']\n",
    "gabor = np.swapaxes(gabor,0,1)\n",
    "gabor.shape"
   ]
  },
  {
   "cell_type": "code",
   "execution_count": 15,
   "metadata": {},
   "outputs": [
    {
     "name": "stdout",
     "output_type": "stream",
     "text": [
      "(270, 37)\n"
     ]
    }
   ],
   "source": [
    "v1_data_path = '/home/elijahc/dev/v1_predictor/data/'\n",
    "filename = '02mean50ms_smallim_d2_crop.mat'\n",
    "rates = sio.loadmat(os.path.join(v1_data_path,filename))['activity']\n",
    "print(rates.shape)"
   ]
  },
  {
   "cell_type": "markdown",
   "metadata": {},
   "source": [
    "## Sample alphas in logspace\n",
    "range: $10^{-2}$ to $10^{2}$"
   ]
  },
  {
   "cell_type": "code",
   "execution_count": 50,
   "metadata": {},
   "outputs": [],
   "source": [
    "alphas = np.logspace(1,8,25)"
   ]
  },
  {
   "cell_type": "code",
   "execution_count": 51,
   "metadata": {},
   "outputs": [],
   "source": [
    "r_eval_trials = []\n",
    "for t in np.arange(7):\n",
    "    r_eval_trials.append(np.concatenate([ridge_regression( x=gabor, y=rates, alpha=a ).reshape(-1,1) for a in alphas],axis=1))"
   ]
  },
  {
   "cell_type": "code",
   "execution_count": 52,
   "metadata": {},
   "outputs": [
    {
     "data": {
      "text/plain": [
       "(37, 10)"
      ]
     },
     "execution_count": 52,
     "metadata": {},
     "output_type": "execute_result"
    }
   ],
   "source": [
    "r_eval.shape"
   ]
  },
  {
   "cell_type": "code",
   "execution_count": 53,
   "metadata": {},
   "outputs": [
    {
     "data": {
      "text/html": [
       "<div>\n",
       "<style scoped>\n",
       "    .dataframe tbody tr th:only-of-type {\n",
       "        vertical-align: middle;\n",
       "    }\n",
       "\n",
       "    .dataframe tbody tr th {\n",
       "        vertical-align: top;\n",
       "    }\n",
       "\n",
       "    .dataframe thead th {\n",
       "        text-align: right;\n",
       "    }\n",
       "</style>\n",
       "<table border=\"1\" class=\"dataframe\">\n",
       "  <thead>\n",
       "    <tr style=\"text-align: right;\">\n",
       "      <th></th>\n",
       "      <th>alpha</th>\n",
       "      <th>dataset</th>\n",
       "      <th>neuron</th>\n",
       "      <th>r_eval</th>\n",
       "      <th>trial</th>\n",
       "    </tr>\n",
       "  </thead>\n",
       "  <tbody>\n",
       "    <tr>\n",
       "      <th>0</th>\n",
       "      <td>10.000</td>\n",
       "      <td>02</td>\n",
       "      <td>0</td>\n",
       "      <td>0.410851</td>\n",
       "      <td>1</td>\n",
       "    </tr>\n",
       "    <tr>\n",
       "      <th>1</th>\n",
       "      <td>19.573</td>\n",
       "      <td>02</td>\n",
       "      <td>0</td>\n",
       "      <td>0.291134</td>\n",
       "      <td>1</td>\n",
       "    </tr>\n",
       "    <tr>\n",
       "      <th>2</th>\n",
       "      <td>38.312</td>\n",
       "      <td>02</td>\n",
       "      <td>0</td>\n",
       "      <td>0.477912</td>\n",
       "      <td>1</td>\n",
       "    </tr>\n",
       "    <tr>\n",
       "      <th>3</th>\n",
       "      <td>74.989</td>\n",
       "      <td>02</td>\n",
       "      <td>0</td>\n",
       "      <td>0.456743</td>\n",
       "      <td>1</td>\n",
       "    </tr>\n",
       "    <tr>\n",
       "      <th>4</th>\n",
       "      <td>146.780</td>\n",
       "      <td>02</td>\n",
       "      <td>0</td>\n",
       "      <td>0.394907</td>\n",
       "      <td>1</td>\n",
       "    </tr>\n",
       "  </tbody>\n",
       "</table>\n",
       "</div>"
      ],
      "text/plain": [
       "     alpha dataset  neuron    r_eval  trial\n",
       "0   10.000      02       0  0.410851      1\n",
       "1   19.573      02       0  0.291134      1\n",
       "2   38.312      02       0  0.477912      1\n",
       "3   74.989      02       0  0.456743      1\n",
       "4  146.780      02       0  0.394907      1"
      ]
     },
     "execution_count": 53,
     "metadata": {},
     "output_type": "execute_result"
    }
   ],
   "source": [
    "# Store data tidy format for pandas\n",
    "n_neurons, n_alphas = r_eval.shape\n",
    "recs = []\n",
    "for t, r_eval in enumerate(r_eval_trials):\n",
    "    for i in np.arange(n_neurons):\n",
    "        for j in np.arange(n_alphas):\n",
    "            recs.append(dict(\n",
    "                neuron=i,\n",
    "                alpha=np.round(alphas[j],decimals=3),\n",
    "                r_eval=r_eval[i,j],\n",
    "                dataset='02',\n",
    "                trial=t+1\n",
    "            ))\n",
    "\n",
    "rr_opt_df = pd.DataFrame.from_records(recs)\n",
    "rr_opt_df.head()"
   ]
  },
  {
   "cell_type": "code",
   "execution_count": 54,
   "metadata": {},
   "outputs": [
    {
     "data": {
      "text/plain": [
       "(array([0, 1, 2, 3, 4, 5, 6, 7, 8, 9]), <a list of 10 Text xticklabel objects>)"
      ]
     },
     "execution_count": 54,
     "metadata": {},
     "output_type": "execute_result"
    },
    {
     "data": {
      "image/png": "[encoded data removed]",
      "text/plain": [
       "<matplotlib.figure.Figure at 0x7ff383757a58>"
      ]
     },
     "metadata": {},
     "output_type": "display_data"
    }
   ],
   "source": [
    "sns.set_context('talk')\n",
    "fig,ax = plt.subplots(1,1,figsize=(10,5))\n",
    "ax = sns.boxplot(x='alpha',y='r_eval',data=rr_opt_df,ax=ax)\n",
    "plt.xticks(rotation=45)"
   ]
  },
  {
   "cell_type": "code",
   "execution_count": null,
   "metadata": {},
   "outputs": [],
   "source": []
  },
  {
   "cell_type": "code",
   "execution_count": null,
   "metadata": {},
   "outputs": [],
   "source": []
  }
 ],
 "metadata": {
  "kernelspec": {
   "display_name": "Python 3",
   "language": "python",
   "name": "python3"
  },
  "language_info": {
   "codemirror_mode": {
    "name": "ipython",
    "version": 3
   },
   "file_extension": ".py",
   "mimetype": "text/x-python",
   "name": "python",
   "nbconvert_exporter": "python",
   "pygments_lexer": "ipython3",
   "version": "3.5.2"
  }
 },
 "nbformat": 4,
 "nbformat_minor": 2
}
