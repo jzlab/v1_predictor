{
 "cells": [
  {
   "cell_type": "markdown",
   "metadata": {},
   "source": [
    "# Gabor wavelet ridge regression"
   ]
  },
  {
   "cell_type": "code",
   "execution_count": 51,
   "metadata": {},
   "outputs": [],
   "source": [
    "import os\n",
    "\n",
    "import numpy as np\n",
    "import pandas as pd\n",
    "import matplotlib.pyplot as plt\n",
    "%matplotlib inline\n",
    "import seaborn as sns\n",
    "\n",
    "import scipy.io as sio\n",
    "import scipy.stats as stats\n",
    "from sklearn.linear_model import Ridge"
   ]
  },
  {
   "cell_type": "code",
   "execution_count": 21,
   "metadata": {},
   "outputs": [
    {
     "data": {
      "text/plain": [
       "(270, 1089)"
      ]
     },
     "execution_count": 21,
     "metadata": {},
     "output_type": "execute_result"
    }
   ],
   "source": [
    "gabor = sio.loadmat('/home/elijahc/dev/sparse_Gabors_for_Will/01_gabor_activations.mat')['Y']\n",
    "gabor = np.swapaxes(gabor,0,1)\n",
    "gabor.shape"
   ]
  },
  {
   "cell_type": "code",
   "execution_count": 12,
   "metadata": {},
   "outputs": [],
   "source": [
    "filearray = [\n",
    "        '01mean50ms_smallim_d2_crop.mat',\n",
    "#         '02mean50ms_smallim_d2_crop.mat', # Not using dataset 02\n",
    "        '03mean50ms_smallim_d2_crop.mat',\n",
    "        '04mean50ms_smallim_d2_crop.mat',\n",
    "        '05mean50ms_smallim_d2_crop.mat',\n",
    "        '06mean50ms_smallim_d2_crop.mat',\n",
    "        '07mean50ms_smallim_d2_crop.mat',\n",
    "        '08mean50ms_smallim_d2_crop.mat',\n",
    "        '09mean50ms_smallim_d2_crop.mat',\n",
    "        '10mean50ms_smallim_d2_crop.mat']"
   ]
  },
  {
   "cell_type": "code",
   "execution_count": 90,
   "metadata": {},
   "outputs": [],
   "source": [
    "def get_partition(total, test_frac=0.2, return_bool_mask=False):\n",
    "    num_total = total\n",
    "    num_samples = int(test_frac*num_total)\n",
    "    sample_frac = np.random.choice(num_total,num_samples,replace=False)\n",
    "    bool_frac = np.bincount(sample_frac,minlength=num_total).astype(np.bool)\n",
    "    if return_bool_mask:\n",
    "        return (~bool_frac,bool_frac)\n",
    "    else:\n",
    "        return (np.arange(num_total)[bool_frac],np.arange(num_total)[~bool_frac])\n",
    "    \n",
    "def ridge_regression(x,y,validation_frac=1.0/7,alpha=1.0):\n",
    "    num_samples = x.shape[0]\n",
    "    num_cells = y.shape[1]\n",
    "    \n",
    "    train_idx,test_idx = get_partition(num_samples,validation_frac,True)\n",
    "    \n",
    "    x_train,x_test = x[train_idx], x[test_idx]\n",
    "    y_train,y_test = y[train_idx], y[test_idx]\n",
    "    num_test = y_test.shape[0]\n",
    "    \n",
    "    clf = Ridge(alpha=alpha)\n",
    "    clf.fit(x_train,y_train)\n",
    "    \n",
    "    y_pred = clf.predict(x_test)\n",
    "    \n",
    "    r_eval = [stats.pearsonr(y_pred[:,i],y_test[:,i])[0] for i in np.arange(num_cells)]\n",
    "    \n",
    "    return np.array(r_eval)"
   ]
  },
  {
   "cell_type": "code",
   "execution_count": 78,
   "metadata": {},
   "outputs": [
    {
     "data": {
      "text/plain": [
       "(270, 28)"
      ]
     },
     "execution_count": 78,
     "metadata": {},
     "output_type": "execute_result"
    }
   ],
   "source": [
    "v1_data_path = '/home/elijahc/dev/v1_predictor/data/'\n",
    "files = [sio.loadmat(os.path.join(v1_data_path,fn))['activity'] for fn in filearray]\n",
    "files[2].shape"
   ]
  },
  {
   "cell_type": "code",
   "execution_count": null,
   "metadata": {},
   "outputs": [],
   "source": []
  },
  {
   "cell_type": "code",
   "execution_count": 79,
   "metadata": {},
   "outputs": [
    {
     "data": {
      "text/plain": [
       "(76, 7)"
      ]
     },
     "execution_count": 79,
     "metadata": {},
     "output_type": "execute_result"
    }
   ],
   "source": [
    "r_eval.shape"
   ]
  },
  {
   "cell_type": "code",
   "execution_count": 91,
   "metadata": {},
   "outputs": [],
   "source": [
    "recs = []\n",
    "\n",
    "for act_dat,filename in zip(files,filearray):\n",
    "    num_trials = 7\n",
    "    r_eval = np.concatenate([ridge_regression(x=gabor,y=act_dat,alpha=1000).reshape(-1,1) for _ in np.arange(num_trials)],axis=1)\n",
    "    num_cells = r_eval.shape[0]\n",
    "    for i in np.arange(num_trials):\n",
    "        for j in np.arange(num_cells):\n",
    "            recs.append(dict(\n",
    "                trial=i,\n",
    "                neuron=j,\n",
    "                r_eval=r_eval[j,i],\n",
    "                dataset=filename[:2]\n",
    "            ))\n",
    "        \n",
    "gabor_df = pd.DataFrame.from_records(recs)"
   ]
  },
  {
   "cell_type": "code",
   "execution_count": 92,
   "metadata": {},
   "outputs": [
    {
     "data": {
      "text/html": [
       "<div>\n",
       "<style scoped>\n",
       "    .dataframe tbody tr th:only-of-type {\n",
       "        vertical-align: middle;\n",
       "    }\n",
       "\n",
       "    .dataframe tbody tr th {\n",
       "        vertical-align: top;\n",
       "    }\n",
       "\n",
       "    .dataframe thead th {\n",
       "        text-align: right;\n",
       "    }\n",
       "</style>\n",
       "<table border=\"1\" class=\"dataframe\">\n",
       "  <thead>\n",
       "    <tr style=\"text-align: right;\">\n",
       "      <th></th>\n",
       "      <th>dataset</th>\n",
       "      <th>neuron</th>\n",
       "      <th>r_eval</th>\n",
       "      <th>trial</th>\n",
       "    </tr>\n",
       "  </thead>\n",
       "  <tbody>\n",
       "    <tr>\n",
       "      <th>0</th>\n",
       "      <td>01</td>\n",
       "      <td>0</td>\n",
       "      <td>0.505895</td>\n",
       "      <td>0</td>\n",
       "    </tr>\n",
       "    <tr>\n",
       "      <th>1</th>\n",
       "      <td>01</td>\n",
       "      <td>1</td>\n",
       "      <td>0.341793</td>\n",
       "      <td>0</td>\n",
       "    </tr>\n",
       "    <tr>\n",
       "      <th>2</th>\n",
       "      <td>01</td>\n",
       "      <td>2</td>\n",
       "      <td>0.265667</td>\n",
       "      <td>0</td>\n",
       "    </tr>\n",
       "    <tr>\n",
       "      <th>3</th>\n",
       "      <td>01</td>\n",
       "      <td>3</td>\n",
       "      <td>0.179127</td>\n",
       "      <td>0</td>\n",
       "    </tr>\n",
       "    <tr>\n",
       "      <th>4</th>\n",
       "      <td>01</td>\n",
       "      <td>4</td>\n",
       "      <td>0.480633</td>\n",
       "      <td>0</td>\n",
       "    </tr>\n",
       "  </tbody>\n",
       "</table>\n",
       "</div>"
      ],
      "text/plain": [
       "  dataset  neuron    r_eval  trial\n",
       "0      01       0  0.505895      0\n",
       "1      01       1  0.341793      0\n",
       "2      01       2  0.265667      0\n",
       "3      01       3  0.179127      0\n",
       "4      01       4  0.480633      0"
      ]
     },
     "execution_count": 92,
     "metadata": {},
     "output_type": "execute_result"
    }
   ],
   "source": [
    "gabor_df.head()"
   ]
  },
  {
   "cell_type": "code",
   "execution_count": null,
   "metadata": {},
   "outputs": [],
   "source": []
  },
  {
   "cell_type": "code",
   "execution_count": 93,
   "metadata": {},
   "outputs": [
    {
     "data": {
      "text/plain": [
       "<matplotlib.axes._subplots.AxesSubplot at 0x7fea7c4b88d0>"
      ]
     },
     "execution_count": 93,
     "metadata": {},
     "output_type": "execute_result"
    },
    {
     "data": {
      "image/png": "[encoded data removed]",
      "text/plain": [
       "<matplotlib.figure.Figure at 0x7fea7c5dee80>"
      ]
     },
     "metadata": {},
     "output_type": "display_data"
    }
   ],
   "source": [
    "sns.set_context('talk')\n",
    "sns.boxplot(x='dataset',y='r_eval',data=gabor_df)"
   ]
  },
  {
   "cell_type": "code",
   "execution_count": 94,
   "metadata": {},
   "outputs": [],
   "source": [
    "cols = ['dataset','trial','neuron','r_eval']\n",
    "data = gabor_df[cols].values"
   ]
  },
  {
   "cell_type": "code",
   "execution_count": 95,
   "metadata": {},
   "outputs": [],
   "source": [
    "sio.savemat('./gabor_regression_a1000.mat',{'columns':cols,'gabor_results':data})"
   ]
  },
  {
   "cell_type": "code",
   "execution_count": 96,
   "metadata": {},
   "outputs": [
    {
     "data": {
      "text/plain": [
       "'/home/elijahc/projects/JoV resubmission'"
      ]
     },
     "execution_count": 96,
     "metadata": {},
     "output_type": "execute_result"
    }
   ],
   "source": [
    "os.getcwd()"
   ]
  },
  {
   "cell_type": "code",
   "execution_count": null,
   "metadata": {},
   "outputs": [],
   "source": []
  }
 ],
 "metadata": {
  "kernelspec": {
   "display_name": "Python 3",
   "language": "python",
   "name": "python3"
  },
  "language_info": {
   "codemirror_mode": {
    "name": "ipython",
    "version": 3
   },
   "file_extension": ".py",
   "mimetype": "text/x-python",
   "name": "python",
   "nbconvert_exporter": "python",
   "pygments_lexer": "ipython3",
   "version": "3.5.2"
  }
 },
 "nbformat": 4,
 "nbformat_minor": 2
}
